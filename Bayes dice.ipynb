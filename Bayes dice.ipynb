{
 "cells": [
  {
   "cell_type": "markdown",
   "id": "0eee044d",
   "metadata": {},
   "source": [
    "# A Bayes Theorem bnomial question"
   ]
  },
  {
   "cell_type": "markdown",
   "id": "b47e0926",
   "metadata": {},
   "source": [
    "This code models a recent bnomial question to verify that Bayes' Theorem gives the right answer!\n",
    "\n",
    "The question: I have two dice, one with six sides labelled 1-6 and the other with 12 sides labelled 1-12. I randomly choose one of the two (they are equally likely to come up); roll it and score a 2. What is the probability that I chose the six-sided die?\n",
    "\n",
    "A straightforward application of Bayes' Theorem tells us that the answer is 2/3."
   ]
  },
  {
   "cell_type": "code",
   "execution_count": null,
   "id": "8df36aae",
   "metadata": {},
   "outputs": [],
   "source": [
    "# The usual import\n",
    "\n",
    "import numpy as np"
   ]
  },
  {
   "cell_type": "code",
   "execution_count": null,
   "id": "44774e52",
   "metadata": {},
   "outputs": [],
   "source": [
    "# Runs the above experiment a million times\n",
    "\n",
    "six_side = 0\n",
    "twos = 0\n",
    "\n",
    "for i in range(1_000_000):\n",
    "    \n",
    "    # chooses one of the two dice\n",
    "    if np.random.random() < 0.5:\n",
    "        # \"rolls\" the 6-sided die\n",
    "        if np.random.randint(1,7) == 2:\n",
    "            twos += 1\n",
    "            six_side += 1\n",
    "    else:\n",
    "        # \"rolls\" the 12-sided die\n",
    "        if np.random.randint(1,13) == 2:\n",
    "            twos += 1\n",
    "            \n",
    "print(six_side / twos)\n",
    "print(2/3)"
   ]
  },
  {
   "cell_type": "code",
   "execution_count": null,
   "id": "3888248c",
   "metadata": {},
   "outputs": [],
   "source": []
  }
 ],
 "metadata": {
  "kernelspec": {
   "display_name": "Python 3 (ipykernel)",
   "language": "python",
   "name": "python3"
  },
  "language_info": {
   "codemirror_mode": {
    "name": "ipython",
    "version": 3
   },
   "file_extension": ".py",
   "mimetype": "text/x-python",
   "name": "python",
   "nbconvert_exporter": "python",
   "pygments_lexer": "ipython3",
   "version": "3.11.3"
  }
 },
 "nbformat": 4,
 "nbformat_minor": 5
}
