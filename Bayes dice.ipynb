{
 "cells": [
  {
   "cell_type": "markdown",
   "id": "0eee044d",
   "metadata": {},
   "source": [
    "# A Bayes Theorem bnomial question"
   ]
  },
  {
   "cell_type": "markdown",
   "id": "b47e0926",
   "metadata": {},
   "source": [
    "This code models a recent bnomial question to verify that Bayes' Theorem gives the right answer!\n",
    "\n",
    "The question: I have two dice, one with six sides labelled 1-6 and the other with 12 sides labelled 1-12. I randomly choose one of the two (they are equally likely to come up); roll it and score a 2. What is the probability that I chose the six-sided die?\n",
    "\n",
    "A straightforward application of Bayes' Theorem tells us that the answer is 2/3."
   ]
  },
  {
   "cell_type": "code",
   "execution_count": 1,
   "id": "8df36aae",
   "metadata": {},
   "outputs": [],
   "source": [
    "# The usual import\n",
    "\n",
    "import numpy as np"
   ]
  },
  {
   "cell_type": "code",
   "execution_count": 2,
   "id": "44774e52",
   "metadata": {},
   "outputs": [
    {
     "name": "stdout",
     "output_type": "stream",
     "text": [
      "0.6689691093393165\n",
      "0.6666666666666666\n"
     ]
    }
   ],
   "source": [
    "# Runs the above experiment a million times\n",
    "\n",
    "six_side = 0\n",
    "twos = 0\n",
    "\n",
    "for i in range(1_000_000):\n",
    "    \n",
    "    # chooses one of the two dice\n",
    "    if np.random.random() < 0.5:\n",
    "        # \"rolls\" the 6-sided die\n",
    "        if np.random.randint(1,7) == 2:\n",
    "            twos += 1\n",
    "            six_side += 1\n",
    "    else:\n",
    "        # \"rolls\" the 12-sided die\n",
    "        if np.random.randint(1,13) == 2:\n",
    "            twos += 1\n",
    "            \n",
    "print(six_side / twos)\n",
    "print(2/3)"
   ]
  },
  {
   "cell_type": "markdown",
   "id": "1d5a6fdf",
   "metadata": {},
   "source": [
    "## More sides"
   ]
  },
  {
   "cell_type": "markdown",
   "id": "888f2947",
   "metadata": {},
   "source": [
    "Let's try to generalise the above by considering dice with a larger numbers of sides and seeing how things change."
   ]
  },
  {
   "cell_type": "code",
   "execution_count": 5,
   "id": "850c4f07",
   "metadata": {},
   "outputs": [],
   "source": [
    "def dice(m,n):\n",
    "    m_side = 0\n",
    "    twos = 0\n",
    "    \n",
    "    for i in range(1_000_000):\n",
    "    \n",
    "        # chooses one of the two dice\n",
    "        if np.random.random() < 0.5:\n",
    "            # \"rolls\" the m-sided die\n",
    "            if np.random.randint(1,m+1) == 2:\n",
    "                twos += 1\n",
    "                m_side += 1\n",
    "            \n",
    "        else:\n",
    "            # \"rolls\" the n-sided die\n",
    "            if np.random.randint(1,n+1) == 2:\n",
    "                twos += 1\n",
    "            \n",
    "    return m_side / twos"
   ]
  },
  {
   "cell_type": "code",
   "execution_count": 6,
   "id": "2a9525a0",
   "metadata": {},
   "outputs": [
    {
     "name": "stdout",
     "output_type": "stream",
     "text": [
      "0.6656670585130628\n"
     ]
    }
   ],
   "source": [
    "#test agreement with the above\n",
    "\n",
    "print(dice(6,12))"
   ]
  },
  {
   "cell_type": "code",
   "execution_count": 8,
   "id": "60da4d95",
   "metadata": {},
   "outputs": [
    {
     "name": "stdout",
     "output_type": "stream",
     "text": [
      "[7, 0.5389744219251716]\n",
      "[8, 0.5702396484240885]\n",
      "[9, 0.6001314098398532]\n",
      "[10, 0.6263192339228356]\n",
      "[11, 0.64732486303765]\n",
      "[12, 0.6667200204878674]\n",
      "[13, 0.682881605946485]\n",
      "[14, 0.7001589530962213]\n"
     ]
    }
   ],
   "source": [
    "for i in range(7,15):\n",
    "    print([i,dice(6,i)])"
   ]
  },
  {
   "cell_type": "code",
   "execution_count": null,
   "id": "470c035c",
   "metadata": {},
   "outputs": [],
   "source": []
  }
 ],
 "metadata": {
  "kernelspec": {
   "display_name": "Python 3 (ipykernel)",
   "language": "python",
   "name": "python3"
  },
  "language_info": {
   "codemirror_mode": {
    "name": "ipython",
    "version": 3
   },
   "file_extension": ".py",
   "mimetype": "text/x-python",
   "name": "python",
   "nbconvert_exporter": "python",
   "pygments_lexer": "ipython3",
   "version": "3.11.3"
  }
 },
 "nbformat": 4,
 "nbformat_minor": 5
}
